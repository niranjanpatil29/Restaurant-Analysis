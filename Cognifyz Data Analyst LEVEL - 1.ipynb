{
 "cells": [
  {
   "cell_type": "markdown",
   "id": "d2048d91",
   "metadata": {},
   "source": [
    "# Task: Top Cuisines"
   ]
  },
  {
   "cell_type": "markdown",
   "id": "281ba123",
   "metadata": {},
   "source": [
    "**LEVEL-1 (TASK-1)"
   ]
  },
  {
   "cell_type": "markdown",
   "id": "34b6feae",
   "metadata": {},
   "source": [
    "**Determine the top three most common cuisines in the dataset."
   ]
  },
  {
   "cell_type": "code",
   "execution_count": 2,
   "id": "9daa5806",
   "metadata": {},
   "outputs": [],
   "source": [
    "import pandas as pd"
   ]
  },
  {
   "cell_type": "code",
   "execution_count": 3,
   "id": "e7cc2038",
   "metadata": {},
   "outputs": [],
   "source": [
    "data = pd.read_csv(\"Dataset.csv\")\n",
    "df = pd.DataFrame(data)"
   ]
  },
  {
   "cell_type": "code",
   "execution_count": 4,
   "id": "cffcda99",
   "metadata": {},
   "outputs": [
    {
     "name": "stdout",
     "output_type": "stream",
     "text": [
      "<class 'pandas.core.frame.DataFrame'>\n",
      "RangeIndex: 9551 entries, 0 to 9550\n",
      "Data columns (total 21 columns):\n",
      " #   Column                Non-Null Count  Dtype  \n",
      "---  ------                --------------  -----  \n",
      " 0   Restaurant ID         9551 non-null   int64  \n",
      " 1   Restaurant Name       9551 non-null   object \n",
      " 2   Country Code          9551 non-null   int64  \n",
      " 3   City                  9551 non-null   object \n",
      " 4   Address               9551 non-null   object \n",
      " 5   Locality              9551 non-null   object \n",
      " 6   Locality Verbose      9551 non-null   object \n",
      " 7   Longitude             9551 non-null   float64\n",
      " 8   Latitude              9551 non-null   float64\n",
      " 9   Cuisines              9542 non-null   object \n",
      " 10  Average Cost for two  9551 non-null   int64  \n",
      " 11  Currency              9551 non-null   object \n",
      " 12  Has Table booking     9551 non-null   object \n",
      " 13  Has Online delivery   9551 non-null   object \n",
      " 14  Is delivering now     9551 non-null   object \n",
      " 15  Switch to order menu  9551 non-null   object \n",
      " 16  Price range           9551 non-null   int64  \n",
      " 17  Aggregate rating      9551 non-null   float64\n",
      " 18  Rating color          9551 non-null   object \n",
      " 19  Rating text           9551 non-null   object \n",
      " 20  Votes                 9551 non-null   int64  \n",
      "dtypes: float64(3), int64(5), object(13)\n",
      "memory usage: 1.5+ MB\n"
     ]
    }
   ],
   "source": [
    "df.info()"
   ]
  },
  {
   "cell_type": "code",
   "execution_count": 5,
   "id": "fe2b46f9",
   "metadata": {},
   "outputs": [
    {
     "data": {
      "text/plain": [
       "(9551, 21)"
      ]
     },
     "execution_count": 5,
     "metadata": {},
     "output_type": "execute_result"
    }
   ],
   "source": [
    "df.shape"
   ]
  },
  {
   "cell_type": "code",
   "execution_count": 6,
   "id": "deda3aa5",
   "metadata": {},
   "outputs": [
    {
     "name": "stdout",
     "output_type": "stream",
     "text": [
      "0\n"
     ]
    }
   ],
   "source": [
    "print(df.duplicated().sum())"
   ]
  },
  {
   "cell_type": "code",
   "execution_count": 7,
   "id": "cb509f5a",
   "metadata": {},
   "outputs": [
    {
     "data": {
      "text/plain": [
       "Restaurant ID           0\n",
       "Restaurant Name         0\n",
       "Country Code            0\n",
       "City                    0\n",
       "Address                 0\n",
       "Locality                0\n",
       "Locality Verbose        0\n",
       "Longitude               0\n",
       "Latitude                0\n",
       "Cuisines                9\n",
       "Average Cost for two    0\n",
       "Currency                0\n",
       "Has Table booking       0\n",
       "Has Online delivery     0\n",
       "Is delivering now       0\n",
       "Switch to order menu    0\n",
       "Price range             0\n",
       "Aggregate rating        0\n",
       "Rating color            0\n",
       "Rating text             0\n",
       "Votes                   0\n",
       "dtype: int64"
      ]
     },
     "execution_count": 7,
     "metadata": {},
     "output_type": "execute_result"
    }
   ],
   "source": [
    "df.isnull().sum()"
   ]
  },
  {
   "cell_type": "code",
   "execution_count": 8,
   "id": "65c908d2",
   "metadata": {},
   "outputs": [],
   "source": [
    "df.dropna(inplace=True)"
   ]
  },
  {
   "cell_type": "code",
   "execution_count": 9,
   "id": "72cf8ef9",
   "metadata": {},
   "outputs": [],
   "source": [
    "cuisines_counts = df['Cuisines'].value_counts()"
   ]
  },
  {
   "cell_type": "code",
   "execution_count": 10,
   "id": "e31b5ff7",
   "metadata": {},
   "outputs": [
    {
     "name": "stdout",
     "output_type": "stream",
     "text": [
      "Top Three Most Common Cuisines:\n",
      "Cuisines\n",
      "North Indian             936\n",
      "North Indian, Chinese    511\n",
      "Chinese                  354\n",
      "Name: count, dtype: int64\n"
     ]
    }
   ],
   "source": [
    "print(\"Top Three Most Common Cuisines:\")\n",
    "print(cuisines_counts.head(3))"
   ]
  },
  {
   "cell_type": "code",
   "execution_count": null,
   "id": "80f570b3",
   "metadata": {},
   "outputs": [],
   "source": []
  },
  {
   "cell_type": "markdown",
   "id": "2ec39ccd",
   "metadata": {},
   "source": [
    "**Calculate the percentage of restaurants that serve each of the top cuisines."
   ]
  },
  {
   "cell_type": "code",
   "execution_count": 12,
   "id": "06cd53ce",
   "metadata": {},
   "outputs": [],
   "source": [
    "cuisine_counts = df['Cuisines'].value_counts()\n",
    "top_three_cuisines = cuisine_counts.head(3)"
   ]
  },
  {
   "cell_type": "code",
   "execution_count": 13,
   "id": "06c15abf",
   "metadata": {},
   "outputs": [
    {
     "name": "stdout",
     "output_type": "stream",
     "text": [
      "9542\n"
     ]
    }
   ],
   "source": [
    "total_restaurants = len(df)\n",
    "print(total_restaurants)"
   ]
  },
  {
   "cell_type": "code",
   "execution_count": 14,
   "id": "d415d5d8",
   "metadata": {},
   "outputs": [],
   "source": [
    "percentage_of_restaurants = (top_three_cuisines / total_restaurants) * 100"
   ]
  },
  {
   "cell_type": "code",
   "execution_count": 15,
   "id": "e45856b8",
   "metadata": {},
   "outputs": [
    {
     "name": "stdout",
     "output_type": "stream",
     "text": [
      "Percentage of Restaurants for Each Top Cuisine\n",
      "Cuisines\n",
      "North Indian             9.809264\n",
      "North Indian, Chinese    5.355271\n",
      "Chinese                  3.709914\n",
      "Name: count, dtype: float64\n"
     ]
    }
   ],
   "source": [
    "print(\"Percentage of Restaurants for Each Top Cuisine\")\n",
    "print(percentage_of_restaurants)"
   ]
  },
  {
   "cell_type": "code",
   "execution_count": null,
   "id": "2cac45c9",
   "metadata": {},
   "outputs": [],
   "source": []
  },
  {
   "cell_type": "markdown",
   "id": "ffecb05c",
   "metadata": {},
   "source": [
    "# Task: City Analysis"
   ]
  },
  {
   "cell_type": "markdown",
   "id": "eb0281b6",
   "metadata": {},
   "source": [
    "**LEVEL-1 (TASK-2)"
   ]
  },
  {
   "cell_type": "markdown",
   "id": "3655285d",
   "metadata": {},
   "source": [
    "**Identify the city with the highest number of restaurants in the dataset."
   ]
  },
  {
   "cell_type": "code",
   "execution_count": 19,
   "id": "e4945979",
   "metadata": {},
   "outputs": [],
   "source": [
    "city_counts = df['City'].value_counts()\n",
    "city_with_highest_num_restaurants = city_counts.head(1)"
   ]
  },
  {
   "cell_type": "code",
   "execution_count": 20,
   "id": "f8fa8390",
   "metadata": {},
   "outputs": [
    {
     "name": "stdout",
     "output_type": "stream",
     "text": [
      "City with the Highest Number of Restaurants\n",
      "City\n",
      "New Delhi    5473\n",
      "Name: count, dtype: int64\n"
     ]
    }
   ],
   "source": [
    "print(\"City with the Highest Number of Restaurants\")\n",
    "print(city_with_highest_num_restaurants)"
   ]
  },
  {
   "cell_type": "code",
   "execution_count": null,
   "id": "21f38810",
   "metadata": {},
   "outputs": [],
   "source": []
  },
  {
   "cell_type": "markdown",
   "id": "ee77f67f",
   "metadata": {},
   "source": [
    "**Calculate the average rating for restaurants in each city."
   ]
  },
  {
   "cell_type": "code",
   "execution_count": 26,
   "id": "19cc4283",
   "metadata": {},
   "outputs": [],
   "source": [
    "average_rating_by_city = df.groupby('City')['Aggregate rating'].mean()"
   ]
  },
  {
   "cell_type": "code",
   "execution_count": 27,
   "id": "799066e6",
   "metadata": {},
   "outputs": [
    {
     "name": "stdout",
     "output_type": "stream",
     "text": [
      "Average Rating for Restaurants in Each City\n",
      "City\n",
      "Abu Dhabi          4.300000\n",
      "Agra               3.965000\n",
      "Ahmedabad          4.161905\n",
      "Albany             3.552941\n",
      "Allahabad          3.395000\n",
      "                     ...   \n",
      "Weirton            3.900000\n",
      "Wellington City    4.250000\n",
      "Winchester Bay     3.200000\n",
      "Yorkton            3.300000\n",
      "��stanbul          4.292857\n",
      "Name: Aggregate rating, Length: 140, dtype: float64\n"
     ]
    }
   ],
   "source": [
    "print(\"Average Rating for Restaurants in Each City\")\n",
    "print(average_rating_by_city)"
   ]
  },
  {
   "cell_type": "code",
   "execution_count": null,
   "id": "da1a0db3",
   "metadata": {},
   "outputs": [],
   "source": []
  },
  {
   "cell_type": "markdown",
   "id": "f56bca65",
   "metadata": {},
   "source": [
    "**Determine the city with the highest average rating."
   ]
  },
  {
   "cell_type": "code",
   "execution_count": 58,
   "id": "3081dbc2",
   "metadata": {},
   "outputs": [],
   "source": [
    "city_with_highest_average_rating = average_rating_by_city.idxmax()\n",
    "highest_average_rating = average_rating_by_city.max()"
   ]
  },
  {
   "cell_type": "code",
   "execution_count": 59,
   "id": "7aecf1c9",
   "metadata": {},
   "outputs": [
    {
     "name": "stdout",
     "output_type": "stream",
     "text": [
      "City with the Highest Average Rating: Inner City\n",
      "Highest Average Rating: 4.9\n"
     ]
    }
   ],
   "source": [
    "print(\"City with the Highest Average Rating:\", city_with_highest_average_rating)\n",
    "print(\"Highest Average Rating:\", highest_average_rating)"
   ]
  },
  {
   "cell_type": "code",
   "execution_count": null,
   "id": "d1549f37",
   "metadata": {},
   "outputs": [],
   "source": []
  },
  {
   "cell_type": "markdown",
   "id": "77c6b310",
   "metadata": {},
   "source": [
    "# Task: Price Range Distribution"
   ]
  },
  {
   "cell_type": "markdown",
   "id": "343e65a2",
   "metadata": {},
   "source": [
    "**LEVEL-1 (TASK-3)"
   ]
  },
  {
   "cell_type": "markdown",
   "id": "9ba52898",
   "metadata": {},
   "source": [
    "**Create a histogram or bar chart to visualize the distribution of price ranges among the restaurants."
   ]
  },
  {
   "cell_type": "code",
   "execution_count": 34,
   "id": "74343b6b",
   "metadata": {},
   "outputs": [],
   "source": [
    "import matplotlib.pyplot as plt"
   ]
  },
  {
   "cell_type": "code",
   "execution_count": 35,
   "id": "26306f63",
   "metadata": {},
   "outputs": [
    {
     "name": "stdout",
     "output_type": "stream",
     "text": [
      "Price range\n",
      "1    4438\n",
      "2    3113\n",
      "3    1405\n",
      "4     586\n",
      "Name: count, dtype: int64\n"
     ]
    }
   ],
   "source": [
    "print(df['Price range'].value_counts())"
   ]
  },
  {
   "cell_type": "code",
   "execution_count": 36,
   "id": "b57d0bb0",
   "metadata": {},
   "outputs": [
    {
     "data": {
      "image/png": "[encoded data removed]",
      "text/plain": [
       "<Figure size 720x432 with 1 Axes>"
      ]
     },
     "metadata": {
      "needs_background": "light"
     },
     "output_type": "display_data"
    }
   ],
   "source": [
    "plt.figure(figsize=(10, 6))\n",
    "df['Price range'].value_counts().sort_index().plot(kind='bar', color='orange')\n",
    "plt.title('Distribution of Price Ranges Among Restaurants')\n",
    "plt.xlabel('Price Range')\n",
    "plt.ylabel('Number of Restaurants')\n",
    "plt.show()"
   ]
  },
  {
   "cell_type": "code",
   "execution_count": null,
   "id": "e7bebc8c",
   "metadata": {},
   "outputs": [],
   "source": []
  },
  {
   "cell_type": "markdown",
   "id": "b42664d9",
   "metadata": {},
   "source": [
    "**Calculate the percentage of restaurants in each price range category."
   ]
  },
  {
   "cell_type": "code",
   "execution_count": 42,
   "id": "1f475c09",
   "metadata": {},
   "outputs": [
    {
     "name": "stdout",
     "output_type": "stream",
     "text": [
      "Price range\n",
      "1    4438\n",
      "2    3113\n",
      "3    1405\n",
      "4     586\n",
      "Name: count, dtype: int64\n",
      "\n",
      "9542\n"
     ]
    }
   ],
   "source": [
    "price_range_counts = df['Price range'].value_counts()\n",
    "total_restaurants = len(df)\n",
    "print(price_range_counts)\n",
    "print()\n",
    "print(total_restaurants)"
   ]
  },
  {
   "cell_type": "code",
   "execution_count": 43,
   "id": "c9ff9338",
   "metadata": {},
   "outputs": [],
   "source": [
    "price_range_percentage = (price_range_counts / total_restaurants) * 100"
   ]
  },
  {
   "cell_type": "code",
   "execution_count": 44,
   "id": "384c2765",
   "metadata": {},
   "outputs": [
    {
     "name": "stdout",
     "output_type": "stream",
     "text": [
      "Percentage of Restaurants in Each Price Range Category\n",
      "Price range\n",
      "1    46.510166\n",
      "2    32.624188\n",
      "3    14.724376\n",
      "4     6.141270\n",
      "Name: count, dtype: float64\n"
     ]
    }
   ],
   "source": [
    "print(\"Percentage of Restaurants in Each Price Range Category\")\n",
    "print(price_range_percentage)"
   ]
  },
  {
   "cell_type": "code",
   "execution_count": null,
   "id": "fb6d77bd",
   "metadata": {},
   "outputs": [],
   "source": []
  },
  {
   "cell_type": "markdown",
   "id": "2204ba52",
   "metadata": {},
   "source": [
    "# Task: Online Delivery"
   ]
  },
  {
   "cell_type": "markdown",
   "id": "1e100cad",
   "metadata": {},
   "source": [
    "**LEVEL-1 (TASK-4)"
   ]
  },
  {
   "cell_type": "markdown",
   "id": "c6e9f803",
   "metadata": {},
   "source": [
    "**Determine the percentage of restaurants that offer online delivery."
   ]
  },
  {
   "cell_type": "code",
   "execution_count": 51,
   "id": "df9d5171",
   "metadata": {},
   "outputs": [
    {
     "name": "stdout",
     "output_type": "stream",
     "text": [
      "2451\n"
     ]
    }
   ],
   "source": [
    "online_delivery = df[\"Has Online delivery\"].value_counts().get(\"Yes\")\n",
    "print(online_delivery)"
   ]
  },
  {
   "cell_type": "code",
   "execution_count": 52,
   "id": "b0c3f484",
   "metadata": {},
   "outputs": [
    {
     "name": "stdout",
     "output_type": "stream",
     "text": [
      "9542\n"
     ]
    }
   ],
   "source": [
    "total_restaurants = len(df)\n",
    "print(total_restaurants)"
   ]
  },
  {
   "cell_type": "code",
   "execution_count": 53,
   "id": "2859ba46",
   "metadata": {},
   "outputs": [
    {
     "name": "stdout",
     "output_type": "stream",
     "text": [
      "25.686438901697755\n"
     ]
    }
   ],
   "source": [
    "online_delivery_percentage = (online_delivery / total_restaurants) * 100\n",
    "print(online_delivery_percentage)"
   ]
  },
  {
   "cell_type": "code",
   "execution_count": 54,
   "id": "88359fe9",
   "metadata": {},
   "outputs": [
    {
     "name": "stdout",
     "output_type": "stream",
     "text": [
      "26\n"
     ]
    }
   ],
   "source": [
    "print(round(online_delivery_percentage))"
   ]
  },
  {
   "cell_type": "code",
   "execution_count": null,
   "id": "8915da81",
   "metadata": {},
   "outputs": [],
   "source": []
  },
  {
   "cell_type": "markdown",
   "id": "49897d72",
   "metadata": {},
   "source": [
    "**Compare the average ratings of restaurants with and without online delivery."
   ]
  },
  {
   "cell_type": "code",
   "execution_count": 55,
   "id": "b5a9ab10",
   "metadata": {},
   "outputs": [
    {
     "name": "stdout",
     "output_type": "stream",
     "text": [
      "                     Aggregate rating\n",
      "Has Online delivery                  \n",
      "No                           2.463517\n",
      "Yes                          3.248837\n"
     ]
    }
   ],
   "source": [
    "average_rating_by_online_delivery = df.groupby(\"Has Online delivery\").agg({\"Aggregate rating\":\"mean\"})\n",
    "print(average_rating_by_delivery) "
   ]
  },
  {
   "cell_type": "code",
   "execution_count": null,
   "id": "b6930521",
   "metadata": {},
   "outputs": [],
   "source": []
  }
 ],
 "metadata": {
  "kernelspec": {
   "display_name": "Python 3 (ipykernel)",
   "language": "python",
   "name": "python3"
  },
  "language_info": {
   "codemirror_mode": {
    "name": "ipython",
    "version": 3
   },
   "file_extension": ".py",
   "mimetype": "text/x-python",
   "name": "python",
   "nbconvert_exporter": "python",
   "pygments_lexer": "ipython3",
   "version": "3.9.12"
  }
 },
 "nbformat": 4,
 "nbformat_minor": 5
}

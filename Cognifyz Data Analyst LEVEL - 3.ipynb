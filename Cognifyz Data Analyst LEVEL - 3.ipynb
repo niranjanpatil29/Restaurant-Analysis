{
 "cells": [
  {
   "cell_type": "markdown",
   "id": "fa237cc9",
   "metadata": {},
   "source": [
    "# Task: Restaurant Reviews"
   ]
  },
  {
   "cell_type": "markdown",
   "id": "c9f7e73c",
   "metadata": {},
   "source": [
    "**LEVEL-3 (Task-1)"
   ]
  },
  {
   "cell_type": "markdown",
   "id": "8d8540f3",
   "metadata": {},
   "source": [
    "**Analyze the text reviews to identify the most common positive and negative keywords."
   ]
  },
  {
   "cell_type": "code",
   "execution_count": 2,
   "id": "268065d5",
   "metadata": {},
   "outputs": [],
   "source": [
    "import pandas as pd\n",
    "\n",
    "data = pd.read_csv(\"Dataset.csv\")\n",
    "df = pd.DataFrame(data)"
   ]
  },
  {
   "cell_type": "code",
   "execution_count": 3,
   "id": "143c1c06",
   "metadata": {},
   "outputs": [
    {
     "name": "stdout",
     "output_type": "stream",
     "text": [
      "<class 'pandas.core.frame.DataFrame'>\n",
      "RangeIndex: 9551 entries, 0 to 9550\n",
      "Data columns (total 21 columns):\n",
      " #   Column                Non-Null Count  Dtype  \n",
      "---  ------                --------------  -----  \n",
      " 0   Restaurant ID         9551 non-null   int64  \n",
      " 1   Restaurant Name       9551 non-null   object \n",
      " 2   Country Code          9551 non-null   int64  \n",
      " 3   City                  9551 non-null   object \n",
      " 4   Address               9551 non-null   object \n",
      " 5   Locality              9551 non-null   object \n",
      " 6   Locality Verbose      9551 non-null   object \n",
      " 7   Longitude             9551 non-null   float64\n",
      " 8   Latitude              9551 non-null   float64\n",
      " 9   Cuisines              9542 non-null   object \n",
      " 10  Average Cost for two  9551 non-null   int64  \n",
      " 11  Currency              9551 non-null   object \n",
      " 12  Has Table booking     9551 non-null   object \n",
      " 13  Has Online delivery   9551 non-null   object \n",
      " 14  Is delivering now     9551 non-null   object \n",
      " 15  Switch to order menu  9551 non-null   object \n",
      " 16  Price range           9551 non-null   int64  \n",
      " 17  Aggregate rating      9551 non-null   float64\n",
      " 18  Rating color          9551 non-null   object \n",
      " 19  Rating text           9551 non-null   object \n",
      " 20  Votes                 9551 non-null   int64  \n",
      "dtypes: float64(3), int64(5), object(13)\n",
      "memory usage: 1.5+ MB\n"
     ]
    }
   ],
   "source": [
    "df.info()"
   ]
  },
  {
   "cell_type": "code",
   "execution_count": 4,
   "id": "eaa82050",
   "metadata": {},
   "outputs": [
    {
     "name": "stdout",
     "output_type": "stream",
     "text": [
      "0\n"
     ]
    }
   ],
   "source": [
    "print(df.duplicated().sum())"
   ]
  },
  {
   "cell_type": "code",
   "execution_count": 5,
   "id": "27af5606",
   "metadata": {},
   "outputs": [
    {
     "data": {
      "text/plain": [
       "Restaurant ID           0\n",
       "Restaurant Name         0\n",
       "Country Code            0\n",
       "City                    0\n",
       "Address                 0\n",
       "Locality                0\n",
       "Locality Verbose        0\n",
       "Longitude               0\n",
       "Latitude                0\n",
       "Cuisines                9\n",
       "Average Cost for two    0\n",
       "Currency                0\n",
       "Has Table booking       0\n",
       "Has Online delivery     0\n",
       "Is delivering now       0\n",
       "Switch to order menu    0\n",
       "Price range             0\n",
       "Aggregate rating        0\n",
       "Rating color            0\n",
       "Rating text             0\n",
       "Votes                   0\n",
       "dtype: int64"
      ]
     },
     "execution_count": 5,
     "metadata": {},
     "output_type": "execute_result"
    }
   ],
   "source": [
    "df.isnull().sum()"
   ]
  },
  {
   "cell_type": "code",
   "execution_count": 6,
   "id": "0b29100d",
   "metadata": {},
   "outputs": [],
   "source": [
    "df.dropna(inplace=True)"
   ]
  },
  {
   "cell_type": "code",
   "execution_count": 8,
   "id": "f82cbc6e",
   "metadata": {},
   "outputs": [
    {
     "name": "stderr",
     "output_type": "stream",
     "text": [
      "[nltk_data] Downloading package punkt to\n",
      "[nltk_data]     C:\\Users\\Niranjan\\AppData\\Roaming\\nltk_data...\n",
      "[nltk_data]   Package punkt is already up-to-date!\n",
      "[nltk_data] Downloading package vader_lexicon to\n",
      "[nltk_data]     C:\\Users\\Niranjan\\AppData\\Roaming\\nltk_data...\n",
      "[nltk_data]   Package vader_lexicon is already up-to-date!\n"
     ]
    },
    {
     "data": {
      "text/plain": [
       "True"
      ]
     },
     "execution_count": 8,
     "metadata": {},
     "output_type": "execute_result"
    }
   ],
   "source": [
    "from nltk.tokenize import word_tokenize\n",
    "from nltk.sentiment import SentimentIntensityAnalyzer\n",
    "from collections import Counter\n",
    "import nltk\n",
    "nltk.download('punkt')\n",
    "import nltk\n",
    "nltk.download('vader_lexicon')"
   ]
  },
  {
   "cell_type": "code",
   "execution_count": 9,
   "id": "2af1e8a7",
   "metadata": {},
   "outputs": [],
   "source": [
    "all_texts = []\n",
    "for review in df['Rating text']:\n",
    "    tokens = word_tokenize(str(review).lower())\n",
    "    all_texts.extend(tokens)"
   ]
  },
  {
   "cell_type": "code",
   "execution_count": 10,
   "id": "fa45c692",
   "metadata": {},
   "outputs": [],
   "source": [
    "sia = SentimentIntensityAnalyzer()\n",
    "df['Votes'] = df['Rating text'].apply(lambda x: sia.polarity_scores(str(x))['compound'])"
   ]
  },
  {
   "cell_type": "code",
   "execution_count": 11,
   "id": "71f65feb",
   "metadata": {},
   "outputs": [],
   "source": [
    "positive_reviews = df[df['Votes'] > 0]['Rating text']\n",
    "negative_reviews = df[df['Votes'] < 0]['Rating text']\n",
    "\n",
    "positive_keywords = [word for review in positive_reviews for word in word_tokenize(str(review).lower())]\n",
    "negative_keywords = [word for review in negative_reviews for word in word_tokenize(str(review).lower())]"
   ]
  },
  {
   "cell_type": "code",
   "execution_count": 12,
   "id": "5d84de59",
   "metadata": {},
   "outputs": [],
   "source": [
    "most_positive_keywords = Counter(positive_keywords).most_common(10)\n",
    "most_negative_keywords = Counter(negative_keywords).most_common(10)"
   ]
  },
  {
   "cell_type": "code",
   "execution_count": 14,
   "id": "c93d84d2",
   "metadata": {},
   "outputs": [
    {
     "name": "stdout",
     "output_type": "stream",
     "text": [
      "Most Positive Keywords\n",
      "[('good', 3174), ('very', 1078), ('excellent', 300)]\n",
      "\n",
      "Most Negative Keywords\n",
      "[('poor', 186)]\n"
     ]
    }
   ],
   "source": [
    "print(\"Most Positive Keywords\")\n",
    "print(most_positive_keywords)\n",
    "print()\n",
    "print(\"Most Negative Keywords\")\n",
    "print(most_negative_keywords)"
   ]
  },
  {
   "cell_type": "code",
   "execution_count": null,
   "id": "24435d38",
   "metadata": {},
   "outputs": [],
   "source": []
  },
  {
   "cell_type": "markdown",
   "id": "531627f5",
   "metadata": {},
   "source": [
    "**Calculate the average length of reviews and explore if there is a relationship between review length and rating."
   ]
  },
  {
   "cell_type": "code",
   "execution_count": 16,
   "id": "5f8af63f",
   "metadata": {},
   "outputs": [
    {
     "name": "stdout",
     "output_type": "stream",
     "text": [
      "Average Review Length: 7.02 characters\n"
     ]
    }
   ],
   "source": [
    "df['review_length'] = df['Rating text'].apply(len)\n",
    "average_review_length = df['review_length'].mean()\n",
    "\n",
    "print(f'Average Review Length: {average_review_length:.2f} characters')"
   ]
  },
  {
   "cell_type": "code",
   "execution_count": 17,
   "id": "f774cf90",
   "metadata": {},
   "outputs": [
    {
     "name": "stdout",
     "output_type": "stream",
     "text": [
      "Correlation between review length and rating: -0.48\n"
     ]
    }
   ],
   "source": [
    "correlation = df['review_length'].corr(df['Aggregate rating'])\n",
    "print(f'Correlation between review length and rating: {correlation:.2f}')"
   ]
  },
  {
   "cell_type": "markdown",
   "id": "a71c6bd4",
   "metadata": {},
   "source": [
    "**Correlation between review length and rating is -0.48, Hence it is moderate negative relationship."
   ]
  },
  {
   "cell_type": "code",
   "execution_count": 19,
   "id": "5a408b14",
   "metadata": {},
   "outputs": [
    {
     "data": {
      "image/png": "[encoded data removed]",
      "text/plain": [
       "<Figure size 720x432 with 1 Axes>"
      ]
     },
     "metadata": {
      "needs_background": "light"
     },
     "output_type": "display_data"
    }
   ],
   "source": [
    "import matplotlib.pyplot as plt\n",
    "import seaborn as sns\n",
    "\n",
    "plt.figure(figsize=(10, 6))\n",
    "sns.scatterplot(x='review_length', y='Aggregate rating', data=df, alpha=0.5)\n",
    "plt.title('Relationship between Review Length and Rating')\n",
    "plt.xlabel('Review Length')\n",
    "plt.ylabel('Rating')\n",
    "plt.show()"
   ]
  },
  {
   "cell_type": "code",
   "execution_count": null,
   "id": "b18de2d0",
   "metadata": {},
   "outputs": [],
   "source": []
  },
  {
   "cell_type": "code",
   "execution_count": null,
   "id": "577485c2",
   "metadata": {},
   "outputs": [],
   "source": []
  },
  {
   "cell_type": "markdown",
   "id": "9144ac53",
   "metadata": {},
   "source": [
    "# Task: Votes Analysis"
   ]
  },
  {
   "cell_type": "markdown",
   "id": "4749f668",
   "metadata": {},
   "source": [
    "**LEVEL-3 (Task-2)"
   ]
  },
  {
   "cell_type": "markdown",
   "id": "8f855535",
   "metadata": {},
   "source": [
    "**Identify the restaurants with the highest and lowest number of votes."
   ]
  },
  {
   "cell_type": "code",
   "execution_count": 21,
   "id": "381e8ece",
   "metadata": {},
   "outputs": [],
   "source": [
    "import pandas as pd\n",
    "\n",
    "data = pd.read_csv(\"Dataset.csv\")\n",
    "df = pd.DataFrame(data)"
   ]
  },
  {
   "cell_type": "code",
   "execution_count": 22,
   "id": "dc83cdab",
   "metadata": {},
   "outputs": [],
   "source": [
    "df.isnull().sum()\n",
    "\n",
    "df.dropna(inplace=True)"
   ]
  },
  {
   "cell_type": "code",
   "execution_count": 26,
   "id": "1de46054",
   "metadata": {},
   "outputs": [
    {
     "name": "stdout",
     "output_type": "stream",
     "text": [
      "Restaurant with the highest number of votes:\n",
      "    Restaurant Name  Votes\n",
      "728            Toit  10934\n"
     ]
    }
   ],
   "source": [
    "highest_votes_restaurant = df[df['Votes'] == df['Votes'].max()]\n",
    "print(\"Restaurant with the highest number of votes:\")\n",
    "print(highest_votes_restaurant[['Restaurant Name', 'Votes']])"
   ]
  },
  {
   "cell_type": "code",
   "execution_count": 27,
   "id": "e3eb22ed",
   "metadata": {},
   "outputs": [
    {
     "name": "stdout",
     "output_type": "stream",
     "text": [
      "\n",
      "Restaurant with the lowest number of votes:\n",
      "                 Restaurant Name  Votes\n",
      "69              Cantinho da Gula      0\n",
      "874                The Chaiwalas      0\n",
      "879           Fusion Food Corner      0\n",
      "880                Punjabi Rasoi      0\n",
      "887                Baskin Robbin      0\n",
      "...                          ...    ...\n",
      "9044               6 Packs Momos      0\n",
      "9098                   Cafe' Wow      0\n",
      "9099  Chef's Basket Pop Up Caf��      0\n",
      "9103            The Hangout-Deli      0\n",
      "9111                    Platters      0\n",
      "\n",
      "[1094 rows x 2 columns]\n"
     ]
    }
   ],
   "source": [
    "lowest_votes_restaurant = df[df['Votes'] == df['Votes'].min()]\n",
    "print(\"\\nRestaurant with the lowest number of votes:\")\n",
    "print(lowest_votes_restaurant[['Restaurant Name', 'Votes']])"
   ]
  },
  {
   "cell_type": "code",
   "execution_count": null,
   "id": "1bf98fb2",
   "metadata": {},
   "outputs": [],
   "source": []
  },
  {
   "cell_type": "code",
   "execution_count": null,
   "id": "6600a0c1",
   "metadata": {},
   "outputs": [],
   "source": []
  },
  {
   "cell_type": "markdown",
   "id": "1bbdd92a",
   "metadata": {},
   "source": [
    "**Analyze if there is a correlation between the number of votes and the rating of a restaurant."
   ]
  },
  {
   "cell_type": "code",
   "execution_count": 29,
   "id": "e924a83e",
   "metadata": {},
   "outputs": [
    {
     "name": "stdout",
     "output_type": "stream",
     "text": [
      "Correlation between Votes and Rating: 0.31\n"
     ]
    }
   ],
   "source": [
    "relationship = df['Votes'].corr(df['Aggregate rating'])\n",
    "print(f'Correlation between Votes and Rating: {relationship:.2f}')"
   ]
  },
  {
   "cell_type": "markdown",
   "id": "92cfd259",
   "metadata": {},
   "source": [
    "**Correlation between Votes and rating is 0.31, Hence it is positive relationship."
   ]
  },
  {
   "cell_type": "code",
   "execution_count": 31,
   "id": "2c26b805",
   "metadata": {},
   "outputs": [
    {
     "data": {
      "image/png": "[encoded data removed]",
      "text/plain": [
       "<Figure size 720x432 with 1 Axes>"
      ]
     },
     "metadata": {
      "needs_background": "light"
     },
     "output_type": "display_data"
    }
   ],
   "source": [
    "import matplotlib.pyplot as plt\n",
    "import seaborn as sns\n",
    "\n",
    "plt.figure(figsize=(10, 6))\n",
    "sns.scatterplot(x='Votes', y='Aggregate rating', data=df, alpha=0.5)\n",
    "plt.title('Realtionship between Votes and Rating')\n",
    "plt.xlabel('Number of Votes')\n",
    "plt.ylabel('Rating')\n",
    "plt.show()"
   ]
  },
  {
   "cell_type": "code",
   "execution_count": null,
   "id": "48b6fa58",
   "metadata": {},
   "outputs": [],
   "source": []
  }
 ],
 "metadata": {
  "kernelspec": {
   "display_name": "Python 3 (ipykernel)",
   "language": "python",
   "name": "python3"
  },
  "language_info": {
   "codemirror_mode": {
    "name": "ipython",
    "version": 3
   },
   "file_extension": ".py",
   "mimetype": "text/x-python",
   "name": "python",
   "nbconvert_exporter": "python",
   "pygments_lexer": "ipython3",
   "version": "3.9.12"
  }
 },
 "nbformat": 4,
 "nbformat_minor": 5
}
